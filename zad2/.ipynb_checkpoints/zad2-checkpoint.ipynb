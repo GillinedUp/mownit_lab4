{
 "cells": [
  {
   "cell_type": "code",
   "execution_count": 2,
   "metadata": {
    "collapsed": true
   },
   "outputs": [],
   "source": [
    "import numpy as np\n",
    "import numpy.random as np_rand\n",
    "import matplotlib.pyplot as plt\n",
    "import matplotlib.colors as clr\n",
    "import math\n",
    "\n",
    "def fill_matrix(n, d):\n",
    "    p = np.zeros((n,n), dtype = int)\n",
    "    k = int(n*n*d)\n",
    "    for i in range(0,k):\n",
    "        x, y = np_rand.randint(0,n,(2))\n",
    "        while p[x,y] == 1:\n",
    "            x, y = np_rand.randint(0,n,(2))\n",
    "        p[x,y] = 1\n",
    "    return p\n",
    "\n",
    "def get_neighbours(x, y, n):\n",
    "    l = []\n",
    "    for x2 in range(x-1, x+2):\n",
    "        for y2 in range(y-1, y+2):\n",
    "            if (-1 < x < n \n",
    "                and -1 < y < n \n",
    "                and (x != x2 or y != y2) \n",
    "                and (0 <= x2 < n) \n",
    "                and (0 <= y2 < n)):\n",
    "                l.append((x2, y2))\n",
    "    return l"
   ]
  },
  {
   "cell_type": "code",
   "execution_count": 37,
   "metadata": {},
   "outputs": [
    {
     "data": {
      "image/png": "[encoded data removed]",
      "text/plain": [
       "<matplotlib.figure.Figure at 0x7ff03c1a9eb8>"
      ]
     },
     "metadata": {},
     "output_type": "display_data"
    }
   ],
   "source": [
    "n = 32\n",
    "d = 0.1\n",
    "p = fill_matrix(n,d)\n",
    "cmap = clr.ListedColormap(['w', 'k'])\n",
    "plt.matshow(p, cmap = cmap)\n",
    "plt.show()"
   ]
  },
  {
   "cell_type": "code",
   "execution_count": 42,
   "metadata": {},
   "outputs": [
    {
     "data": {
      "text/plain": [
       "775"
      ]
     },
     "execution_count": 42,
     "metadata": {},
     "output_type": "execute_result"
    }
   ],
   "source": [
    "\n",
    "\n",
    "sum = 0\n",
    "for x in range(0,n):\n",
    "    for y in range(0,n):\n",
    "        nlist = get_neighbours(x,y,n)\n",
    "        for neighbour in nlist:\n",
    "            i, j = neighbour\n",
    "            sum += p[i,j]\n",
    "sum"
   ]
  },
  {
   "cell_type": "code",
   "execution_count": null,
   "metadata": {
    "collapsed": true
   },
   "outputs": [],
   "source": [
    "l = []\n",
    "l.append"
   ]
  }
 ],
 "metadata": {
  "kernelspec": {
   "display_name": "Python 3",
   "language": "python",
   "name": "python3"
  },
  "language_info": {
   "codemirror_mode": {
    "name": "ipython",
    "version": 3
   },
   "file_extension": ".py",
   "mimetype": "text/x-python",
   "name": "python",
   "nbconvert_exporter": "python",
   "pygments_lexer": "ipython3",
   "version": "3.6.3"
  }
 },
 "nbformat": 4,
 "nbformat_minor": 2
}
