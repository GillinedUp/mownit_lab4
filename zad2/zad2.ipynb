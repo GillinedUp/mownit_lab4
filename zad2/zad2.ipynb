{
 "cells": [
  {
   "cell_type": "code",
   "execution_count": 5,
   "metadata": {
    "collapsed": true
   },
   "outputs": [],
   "source": [
    "import numpy as np\n",
    "import numpy.random as np_rand\n",
    "import matplotlib.pyplot as plt\n",
    "import matplotlib.colors as clr\n",
    "import math\n",
    "\n",
    "# generating matrix with random black points\n",
    "\n",
    "def fill_matrix(n, d):\n",
    "    p = np.zeros((n,n), dtype = int)\n",
    "    k = int(n*n*d)\n",
    "    for i in range(0,k):\n",
    "        x, y = np_rand.randint(0,n,(2))\n",
    "        while p[x,y] == 1:\n",
    "            x, y = np_rand.randint(0,n,(2))\n",
    "        p[x,y] = 1\n",
    "    return p\n",
    "\n",
    "# energy\n",
    "\n",
    "def get_close_neighbours(x, y, n):\n",
    "    l = []\n",
    "    for x2 in range(x-1, x+2):\n",
    "        for y2 in range(y-1, y+2):\n",
    "            if (-1 < x < n \n",
    "                and -1 < y < n \n",
    "                and (x != x2 or y != y2) \n",
    "                and (0 <= x2 < n) \n",
    "                and (0 <= y2 < n)):\n",
    "                l.append((x2, y2))\n",
    "    return l\n",
    "\n",
    "def close_energy(p):\n",
    "    n = len(p)\n",
    "    sum = 0\n",
    "    for x in range(0,n):\n",
    "        for y in range(0,n):\n",
    "            nlist = get_close_neighbours(x,y,n)\n",
    "            local_sum = p[x,y]\n",
    "            for i, j in nlist:\n",
    "                local_sum += p[i,j]\n",
    "            if local_sum >= 4:\n",
    "                local_sum += 1\n",
    "            elif local_sum >= 6:\n",
    "                local_sum += 2\n",
    "            elif local_sum >= 8:\n",
    "                local_sum += 3\n",
    "            sum += local_sum\n",
    "    return sum\n",
    "\n",
    "# def close_energy_with_fines(p):\n",
    "#     n = len(p)\n",
    "#     sum = 0\n",
    "#     for x in range(0,n):\n",
    "#         for y in range(0,n):\n",
    "#             nlist = get_close_neighbours(x,y,n)\n",
    "#             for neighbour in nlist:\n",
    "#                 i, j = neighbour\n",
    "                \n",
    "#                 sum += p[i,j]\n",
    "#     return sum\n",
    "\n",
    "# schedule functions\n",
    "\n",
    "def lin_schedule(t_0, k, n):\n",
    "    a = np.linspace(0,t_0,n)\n",
    "    return -a[k]+t_0\n",
    "\n",
    "def exp_schedule(t_0, k, n):\n",
    "    return t_0*(0.85**k)\n",
    "\n",
    "def quad_schedule(t_0, k, n):\n",
    "    return t_0/(1+2*k^2)\n",
    "\n",
    "# swap functions\n",
    "\n",
    "def arbit_swap(s, n):\n",
    "    a = []\n",
    "    for i in range(0,n):\n",
    "        copy = s.copy()\n",
    "        x1, y1 = np_rand.randint(0,len(s)-1,(2))\n",
    "        x2, y2 = np_rand.randint(0,len(s)-1,(2))\n",
    "        while (x1 == x2 and y1 == y2) or (s[x1,y1] == 0 and s[x2,y2] == 0):\n",
    "            x1, y1 = np_rand.randint(0,len(s)-1,(2))\n",
    "            x2, y2 = np_rand.randint(0,len(s)-1,(2))\n",
    "        copy[x1,y1], copy[x2,y2] = copy[x2,y2], copy[x1,y1]\n",
    "        a.append(copy)\n",
    "    return a\n",
    "\n",
    "# probability\n",
    "\n",
    "def p(e, e_new, t):\n",
    "    if t < 1:\n",
    "        t = 1\n",
    "    return math.exp(-(e - e_new)/t)\n",
    "\n",
    "# simulated annealing\n",
    "\n",
    "def sim_an(s, k_max, t_0, t_1, p, schedule, swap, energy, neighbours_num):\n",
    "    for i in range(0, 5):\n",
    "        for k in range(0, k_max):\n",
    "            t = schedule(t_0, k, k_max)\n",
    "            a = swap(s, neighbours_num)\n",
    "            for s_new in a:\n",
    "                if p(energy(s), energy(s_new), t) >= np_rand.random():\n",
    "                    s = s_new\n",
    "            if math.isclose(t_1, t, rel_tol = 0.01):\n",
    "                break\n",
    "    return s"
   ]
  },
  {
   "cell_type": "code",
   "execution_count": 7,
   "metadata": {
    "collapsed": true
   },
   "outputs": [],
   "source": [
    "n = 16\n",
    "d = 0.3\n",
    "s = fill_matrix(n,d)\n",
    "cmap = clr.ListedColormap(['w', 'k'])"
   ]
  },
  {
   "cell_type": "code",
   "execution_count": 9,
   "metadata": {},
   "outputs": [
    {
     "data": {
      "image/png": "[encoded data removed]",
      "text/plain": [
       "<matplotlib.figure.Figure at 0x7f7fb46b7128>"
      ]
     },
     "metadata": {},
     "output_type": "display_data"
    },
    {
     "name": "stdout",
     "output_type": "stream",
     "text": [
      "677\n"
     ]
    },
    {
     "data": {
      "image/png": "[encoded data removed]",
      "text/plain": [
       "<matplotlib.figure.Figure at 0x7f7fb4578f60>"
      ]
     },
     "metadata": {},
     "output_type": "display_data"
    },
    {
     "name": "stdout",
     "output_type": "stream",
     "text": [
      "711\n"
     ]
    },
    {
     "data": {
      "image/png": "[encoded data removed]",
      "text/plain": [
       "<matplotlib.figure.Figure at 0x7f7fb455e940>"
      ]
     },
     "metadata": {},
     "output_type": "display_data"
    },
    {
     "name": "stdout",
     "output_type": "stream",
     "text": [
      "755\n"
     ]
    },
    {
     "data": {
      "image/png": "[encoded data removed]",
      "text/plain": [
       "<matplotlib.figure.Figure at 0x7f7fb45075c0>"
      ]
     },
     "metadata": {},
     "output_type": "display_data"
    },
    {
     "name": "stdout",
     "output_type": "stream",
     "text": [
      "753\n"
     ]
    }
   ],
   "source": [
    "plt.matshow(s, cmap = cmap)\n",
    "plt.show()\n",
    "print(close_energy(s))\n",
    "\n",
    "schedules = [lin_schedule, exp_schedule, quad_schedule]\n",
    "for schedule in schedules:    \n",
    "    s_new = sim_an(s, 500, 1000, 1, p, schedule, arbit_swap, close_energy, 15)\n",
    "    plt.matshow(s_new, cmap = cmap)\n",
    "    plt.show()\n",
    "    print(close_energy(s_new))"
   ]
  },
  {
   "cell_type": "code",
   "execution_count": null,
   "metadata": {
    "collapsed": true
   },
   "outputs": [],
   "source": []
  }
 ],
 "metadata": {
  "kernelspec": {
   "display_name": "Python 3",
   "language": "python",
   "name": "python3"
  },
  "language_info": {
   "codemirror_mode": {
    "name": "ipython",
    "version": 3
   },
   "file_extension": ".py",
   "mimetype": "text/x-python",
   "name": "python",
   "nbconvert_exporter": "python",
   "pygments_lexer": "ipython3",
   "version": "3.6.3"
  }
 },
 "nbformat": 4,
 "nbformat_minor": 2
}
