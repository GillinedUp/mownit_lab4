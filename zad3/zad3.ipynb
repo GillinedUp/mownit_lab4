{
 "cells": [
  {
   "cell_type": "code",
   "execution_count": 20,
   "metadata": {
    "collapsed": true
   },
   "outputs": [],
   "source": [
    "import numpy as np\n",
    "import numpy.random as np_rand\n",
    "import matplotlib.pyplot as plt\n",
    "import math\n",
    "\n",
    "# energy\n",
    "\n",
    "def update_dict(d, key, nval):\n",
    "    val = d.get(key)\n",
    "    if val != None:\n",
    "        val.append(nval)\n",
    "        d.update({key: val})\n",
    "    else:\n",
    "        d.update({key: [nval]})\n",
    "\n",
    "def energy(matrix):\n",
    "    n = len(matrix)\n",
    "    sum = 0    \n",
    "    for x in range(0,n): # check rows\n",
    "        row_dict = {}\n",
    "        for y in range(0,n):\n",
    "            update_dict(row_dict, matrix[x,y], y)\n",
    "        rep_l = list(filter(lambda e: e > 1, list(map(lambda l: len(l), row_dict.values()))))\n",
    "        for e in rep_l:\n",
    "            sum += e\n",
    "    for y in range(0,n): # check columns\n",
    "        col_dict = {}\n",
    "        for x in range(0,n):\n",
    "            update_dict(col_dict, matrix[x,y], x)\n",
    "        rep_l = list(filter(lambda e: e > 1, list(map(lambda l: len(l), col_dict.values()))))\n",
    "        for e in rep_l:\n",
    "            sum += e\n",
    "            # TODO: check blocks\n",
    "\n",
    "# schedule functions\n",
    "\n",
    "def lin_schedule(t_0, k, n):\n",
    "    a = np.linspace(0,t_0,n)\n",
    "    return -a[k]+t_0\n",
    "\n",
    "def exp_schedule(t_0, k, n):\n",
    "    return t_0*(0.85**k)\n",
    "\n",
    "def quad_schedule(t_0, k, n):\n",
    "    return t_0/(1+2*k^2)\n",
    "\n",
    "# swap functions\n",
    "\n",
    "# probability\n",
    "\n",
    "def p(e, e_new, t):\n",
    "    if t < 1:\n",
    "        t = 1\n",
    "    return math.exp(-(e_new - e)/t)\n",
    "\n",
    "# simulated annealing\n",
    "\n",
    "def sim_an(s, k_max, t_0, t_1, p, schedule, swap, energy, neighbours_num, empty_l):\n",
    "    for i in range(0, 5):\n",
    "        for k in range(0, k_max):\n",
    "            t = schedule(t_0, k, k_max)\n",
    "            a = swap(s, neighbours_num)\n",
    "            for s_new in a:\n",
    "                if p(energy(s), energy(s_new), t) >= np_rand.random():\n",
    "                    s = s_new\n",
    "            if math.isclose(t_1, t, rel_tol = 0.01):\n",
    "                break\n",
    "    return s\n"
   ]
  },
  {
   "cell_type": "code",
   "execution_count": 19,
   "metadata": {},
   "outputs": [
    {
     "name": "stdout",
     "output_type": "stream",
     "text": [
      "[(0, 2), (0, 3), (0, 6), (0, 7), (0, 8), (1, 0), (1, 5), (1, 6), (1, 7), (1, 8), (2, 1), (2, 2), (2, 3), (2, 4), (2, 6), (3, 0), (3, 2), (3, 6), (3, 7), (3, 8), (4, 0), (4, 1), (4, 3), (4, 5), (4, 7), (4, 8), (5, 0), (5, 1), (5, 2), (5, 6), (5, 8), (6, 2), (6, 4), (6, 5), (6, 6), (6, 7), (7, 0), (7, 1), (7, 2), (7, 3), (7, 8), (8, 0), (8, 1), (8, 2), (8, 5), (8, 6)]\n",
      "[[6 9 3 1 8 4 4 5 7]\n",
      " [1 4 3 9 2 2 1 4 2]\n",
      " [8 5 2 3 9 6 4 4 3]\n",
      " [3 6 7 4 7 2 4 8 5]\n",
      " [1 9 7 3 1 6 4 3 1]\n",
      " [3 2 4 5 6 3 9 1 8]\n",
      " [7 1 6 6 8 9 4 6 4]\n",
      " [2 3 1 1 9 5 1 6 7]\n",
      " [3 9 4 7 4 2 6 5 8]]\n"
     ]
    }
   ],
   "source": [
    "with open('sudoku.txt') as f:\n",
    "    read_data = f.readlines()\n",
    "stream = []\n",
    "for line in read_data:\n",
    "    l = line.split()\n",
    "    stream += l\n",
    "con_stream = list(map(lambda x: 0 if x == 'x' else int(x), stream))\n",
    "sud_m = np.array(con_stream).reshape(9,9)\n",
    "empty_l = []\n",
    "for x in range(0, len(sud_m)):\n",
    "    for y in range(0, len(sud_m[x])):\n",
    "        if sud_m[x, y] == 0:\n",
    "            empty_l.append((x,y))\n",
    "            sud_m[x, y] = np_rand.randint(1,10)\n"
   ]
  },
  {
   "cell_type": "code",
   "execution_count": 23,
   "metadata": {},
   "outputs": [
    {
     "data": {
      "text/plain": [
       "array([[6, 9, 3, 1, 8, 4, 4, 5, 7],\n",
       "       [1, 4, 3, 9, 2, 2, 1, 4, 2],\n",
       "       [8, 5, 2, 3, 9, 6, 4, 4, 3],\n",
       "       [3, 6, 7, 4, 7, 2, 4, 8, 5],\n",
       "       [1, 9, 7, 3, 1, 6, 4, 3, 1],\n",
       "       [3, 2, 4, 5, 6, 3, 9, 1, 8],\n",
       "       [7, 1, 6, 6, 8, 9, 4, 6, 4],\n",
       "       [2, 3, 1, 1, 9, 5, 1, 6, 7],\n",
       "       [3, 9, 4, 7, 4, 2, 6, 5, 8]])"
      ]
     },
     "execution_count": 23,
     "metadata": {},
     "output_type": "execute_result"
    }
   ],
   "source": [
    "sud_m"
   ]
  },
  {
   "cell_type": "code",
   "execution_count": 30,
   "metadata": {},
   "outputs": [
    {
     "data": {
      "text/plain": [
       "7"
      ]
     },
     "execution_count": 30,
     "metadata": {},
     "output_type": "execute_result"
    }
   ],
   "source": [
    "sum = 0\n",
    "x = 1\n",
    "matrix = sud_m\n",
    "n = len(matrix)\n",
    "row_dict = {}\n",
    "for y in range(0,n):\n",
    "    update_dict(row_dict, matrix[x,y], y)\n",
    "rep_l = list(filter(lambda e: e > 1,list(map(lambda l: len(l), row_dict.values()))))\n",
    "for e in rep_l:\n",
    "    sum += e\n",
    "sum"
   ]
  }
 ],
 "metadata": {
  "kernelspec": {
   "display_name": "Python 3",
   "language": "python",
   "name": "python3"
  },
  "language_info": {
   "codemirror_mode": {
    "name": "ipython",
    "version": 3
   },
   "file_extension": ".py",
   "mimetype": "text/x-python",
   "name": "python",
   "nbconvert_exporter": "python",
   "pygments_lexer": "ipython3",
   "version": "3.6.3"
  }
 },
 "nbformat": 4,
 "nbformat_minor": 2
}
